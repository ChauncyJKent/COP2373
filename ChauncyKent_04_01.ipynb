{
 "cells": [
  {
   "cell_type": "code",
   "execution_count": 1,
   "id": "7c49cc46",
   "metadata": {},
   "outputs": [
    {
     "name": "stdout",
     "output_type": "stream",
     "text": [
      "10,20,30."
     ]
    }
   ],
   "source": [
    "print(10, 20, 30, end='.', sep=',')"
   ]
  },
  {
   "cell_type": "code",
   "execution_count": 2,
   "id": "80783708",
   "metadata": {},
   "outputs": [
    {
     "name": "stdout",
     "output_type": "stream",
     "text": [
      "a : 10\n",
      "b : 20\n",
      "c : 30\n"
     ]
    }
   ],
   "source": [
    "def pr_named_vals(**kwargs):\n",
    "    for k in kwargs:\n",
    "        print(k, ':', kwargs[k])\n",
    "\n",
    "pr_named_vals(a=10, b=20, c=30)"
   ]
  },
  {
   "cell_type": "code",
   "execution_count": 3,
   "id": "fefe6d9f",
   "metadata": {},
   "outputs": [
    {
     "name": "stdout",
     "output_type": "stream",
     "text": [
      "1\n",
      "2\n",
      "3\n",
      "-4\n",
      "a : 100\n",
      "b : 200\n"
     ]
    }
   ],
   "source": [
    "def pr_vals_2(*args, **kwargs):\n",
    "    for i in args:\n",
    "        print(i)\n",
    "    for k in kwargs:\n",
    "        print(k, ':', kwargs[k])\n",
    "\n",
    "pr_vals_2(1, 2, 3, -4, a=100, b=200)"
   ]
  }
 ],
 "metadata": {
  "kernelspec": {
   "display_name": ".venv",
   "language": "python",
   "name": "python3"
  },
  "language_info": {
   "codemirror_mode": {
    "name": "ipython",
    "version": 3
   },
   "file_extension": ".py",
   "mimetype": "text/x-python",
   "name": "python",
   "nbconvert_exporter": "python",
   "pygments_lexer": "ipython3",
   "version": "3.13.3"
  }
 },
 "nbformat": 4,
 "nbformat_minor": 5
}
