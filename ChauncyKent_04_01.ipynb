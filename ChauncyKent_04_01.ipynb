{
 "cells": [
  {
   "cell_type": "code",
   "execution_count": 1,
   "id": "7c49cc46",
   "metadata": {},
   "outputs": [
    {
     "name": "stdout",
     "output_type": "stream",
     "text": [
      "10,20,30."
     ]
    }
   ],
   "source": [
    "print(10, 20, 30, end='.', sep=',')"
   ]
  },
  {
   "cell_type": "code",
   "execution_count": null,
   "id": "80783708",
   "metadata": {},
   "outputs": [],
   "source": [
    "def pr_named_vals(**kwargs):\n",
    "    for k in kwargs:\n",
    "        print(k, ':', kwargs[k])\n",
    "\n",
    "pr_named_vals(a=10, b=20, c=30)"
   ]
  }
 ],
 "metadata": {
  "kernelspec": {
   "display_name": ".venv",
   "language": "python",
   "name": "python3"
  },
  "language_info": {
   "codemirror_mode": {
    "name": "ipython",
    "version": 3
   },
   "file_extension": ".py",
   "mimetype": "text/x-python",
   "name": "python",
   "nbconvert_exporter": "python",
   "pygments_lexer": "ipython3",
   "version": "3.13.3"
  }
 },
 "nbformat": 4,
 "nbformat_minor": 5
}
